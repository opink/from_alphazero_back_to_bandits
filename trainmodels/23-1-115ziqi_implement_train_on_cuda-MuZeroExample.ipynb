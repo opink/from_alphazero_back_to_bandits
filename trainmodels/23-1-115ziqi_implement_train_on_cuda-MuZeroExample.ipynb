{
 "cells": [
  {
   "cell_type": "code",
   "execution_count": 2,
   "metadata": {},
   "outputs": [
    {
     "data": {
      "text/plain": [
       "array([[0, 0, 0, 0, 0, 0, 0, 0, 0, 0],\n",
       "       [0, 0, 0, 0, 0, 0, 0, 0, 0, 0],\n",
       "       [0, 0, 0, 0, 0, 0, 0, 0, 0, 0],\n",
       "       [0, 0, 0, 0, 0, 0, 0, 0, 0, 0],\n",
       "       [0, 0, 0, 0, 1, 2, 0, 0, 0, 0],\n",
       "       [0, 0, 0, 0, 3, 4, 0, 0, 0, 0],\n",
       "       [0, 0, 0, 0, 0, 0, 0, 0, 0, 0],\n",
       "       [0, 0, 0, 0, 0, 0, 0, 0, 0, 0],\n",
       "       [0, 0, 0, 0, 0, 0, 0, 0, 0, 0],\n",
       "       [0, 0, 0, 0, 0, 0, 0, 0, 0, 0]])"
      ]
     },
     "execution_count": 2,
     "metadata": {},
     "output_type": "execute_result"
    }
   ],
   "source": [
    "# environment:\n",
    "# pip3 install torch\n",
    "# 解决五子棋计算五联子碰到索引出界，需要pad矩阵\n",
    "import numpy as np\n",
    "a = np.array([[1, 2], [3, 4]])\n",
    "np.pad(a,(4,4))\n",
    "# print(a)"
   ]
  },
  {
   "cell_type": "code",
   "execution_count": 1,
   "metadata": {},
   "outputs": [
    {
     "name": "stdout",
     "output_type": "stream",
     "text": [
      "   1 2 3 4 5 6 7 8 9\n",
      "A _ O _ _ _ _ _ _ _\n",
      "B _ _ _ _ _ _ _ _ _\n",
      "C _ _ _ _ _ _ _ _ _\n",
      "D _ _ _ _ _ _ _ _ _\n",
      "E _ _ _ _ _ _ _ _ _\n",
      "F _ _ _ _ _ _ _ _ _\n",
      "G _ _ _ _ _ _ _ _ _\n",
      "H _ _ _ _ _ _ _ _ _\n",
      "I _ _ _ _ _ _ _ _ _\n",
      "record = A2\n",
      "input feature\n",
      "[[[-1. -1. -1. -1. -1. -1. -1. -1. -1.]\n",
      "  [-1. -1. -1. -1. -1. -1. -1. -1. -1.]\n",
      "  [-1. -1. -1. -1. -1. -1. -1. -1. -1.]\n",
      "  [-1. -1. -1. -1. -1. -1. -1. -1. -1.]\n",
      "  [-1. -1. -1. -1. -1. -1. -1. -1. -1.]\n",
      "  [-1. -1. -1. -1. -1. -1. -1. -1. -1.]\n",
      "  [-1. -1. -1. -1. -1. -1. -1. -1. -1.]\n",
      "  [-1. -1. -1. -1. -1. -1. -1. -1. -1.]\n",
      "  [-1. -1. -1. -1. -1. -1. -1. -1. -1.]]\n",
      "\n",
      " [[ 0.  0.  0.  0.  0.  0.  0.  0.  0.]\n",
      "  [ 0.  0.  0.  0.  0.  0.  0.  0.  0.]\n",
      "  [ 0.  0.  0.  0.  0.  0.  0.  0.  0.]\n",
      "  [ 0.  0.  0.  0.  0.  0.  0.  0.  0.]\n",
      "  [ 0.  0.  0.  0.  0.  0.  0.  0.  0.]\n",
      "  [ 0.  0.  0.  0.  0.  0.  0.  0.  0.]\n",
      "  [ 0.  0.  0.  0.  0.  0.  0.  0.  0.]\n",
      "  [ 0.  0.  0.  0.  0.  0.  0.  0.  0.]\n",
      "  [ 0.  0.  0.  0.  0.  0.  0.  0.  0.]]\n",
      "\n",
      " [[ 0.  1.  0.  0.  0.  0.  0.  0.  0.]\n",
      "  [ 0.  0.  0.  0.  0.  0.  0.  0.  0.]\n",
      "  [ 0.  0.  0.  0.  0.  0.  0.  0.  0.]\n",
      "  [ 0.  0.  0.  0.  0.  0.  0.  0.  0.]\n",
      "  [ 0.  0.  0.  0.  0.  0.  0.  0.  0.]\n",
      "  [ 0.  0.  0.  0.  0.  0.  0.  0.  0.]\n",
      "  [ 0.  0.  0.  0.  0.  0.  0.  0.  0.]\n",
      "  [ 0.  0.  0.  0.  0.  0.  0.  0.  0.]\n",
      "  [ 0.  0.  0.  0.  0.  0.  0.  0.  0.]]]\n",
      "   1 2 3 4 5 6 7 8 9\n",
      "A X _ _ _ _ _ _ _ _\n",
      "B _ O _ _ _ _ _ _ _\n",
      "C _ _ _ _ _ _ _ _ _\n",
      "D _ _ _ _ _ _ _ _ _\n",
      "E _ _ _ _ _ _ _ _ _\n",
      "F _ _ _ _ _ _ _ _ _\n",
      "G _ _ _ _ _ _ _ _ _\n",
      "H _ _ _ _ _ _ _ _ _\n",
      "I _ O _ _ _ _ _ _ _\n",
      "record = B2 A1 I2\n",
      "input feature\n",
      "[[[-1. -1. -1. -1. -1. -1. -1. -1. -1.]\n",
      "  [-1. -1. -1. -1. -1. -1. -1. -1. -1.]\n",
      "  [-1. -1. -1. -1. -1. -1. -1. -1. -1.]\n",
      "  [-1. -1. -1. -1. -1. -1. -1. -1. -1.]\n",
      "  [-1. -1. -1. -1. -1. -1. -1. -1. -1.]\n",
      "  [-1. -1. -1. -1. -1. -1. -1. -1. -1.]\n",
      "  [-1. -1. -1. -1. -1. -1. -1. -1. -1.]\n",
      "  [-1. -1. -1. -1. -1. -1. -1. -1. -1.]\n",
      "  [-1. -1. -1. -1. -1. -1. -1. -1. -1.]]\n",
      "\n",
      " [[ 1.  0.  0.  0.  0.  0.  0.  0.  0.]\n",
      "  [ 0.  0.  0.  0.  0.  0.  0.  0.  0.]\n",
      "  [ 0.  0.  0.  0.  0.  0.  0.  0.  0.]\n",
      "  [ 0.  0.  0.  0.  0.  0.  0.  0.  0.]\n",
      "  [ 0.  0.  0.  0.  0.  0.  0.  0.  0.]\n",
      "  [ 0.  0.  0.  0.  0.  0.  0.  0.  0.]\n",
      "  [ 0.  0.  0.  0.  0.  0.  0.  0.  0.]\n",
      "  [ 0.  0.  0.  0.  0.  0.  0.  0.  0.]\n",
      "  [ 0.  0.  0.  0.  0.  0.  0.  0.  0.]]\n",
      "\n",
      " [[ 0.  0.  0.  0.  0.  0.  0.  0.  0.]\n",
      "  [ 0.  1.  0.  0.  0.  0.  0.  0.  0.]\n",
      "  [ 0.  0.  0.  0.  0.  0.  0.  0.  0.]\n",
      "  [ 0.  0.  0.  0.  0.  0.  0.  0.  0.]\n",
      "  [ 0.  0.  0.  0.  0.  0.  0.  0.  0.]\n",
      "  [ 0.  0.  0.  0.  0.  0.  0.  0.  0.]\n",
      "  [ 0.  0.  0.  0.  0.  0.  0.  0.  0.]\n",
      "  [ 0.  0.  0.  0.  0.  0.  0.  0.  0.]\n",
      "  [ 0.  1.  0.  0.  0.  0.  0.  0.  0.]]]\n"
     ]
    }
   ],
   "source": [
    "# 用五字棋尝试一下\n",
    "# You can change this to another two-player game.\n",
    "# 给状态张量增加一个channel表示当前行棋方\n",
    "\n",
    "# TODO 1.实现 train Nets on GPU. Done on 2023.1.7\n",
    "# TODO 2.implement a memoryband storing trails for training network. Done on 2023.1.11\n",
    "# TODO 3.实现训练sudoindex（比如轨迹长度的分布等等）收集至wandb\n",
    "\n",
    "\n",
    "from typing import Union, List\n",
    "import numpy as np\n",
    "\n",
    "BLACK, WHITE = 1, -1  # 颜色的先后手,黑圈O先,白叉X后\n",
    "\n",
    "class State:\n",
    "    '''实现 9 x 9 wuziqi 的棋盘'''\n",
    "    X, Y = 'ABCDEFGHI',  '123456789'\n",
    "    C = {0: '_', BLACK: 'O', WHITE: 'X'}\n",
    "\n",
    "    def __init__(self):\n",
    "        self.board = np.zeros((9, 9)) # (x, y)\n",
    "        self.color = 1\n",
    "        self.win_color = 0\n",
    "        self.record = []\n",
    "\n",
    "    def action2str(self, a:int):\n",
    "        \"\"\"用0-80编码落子位\n",
    "            '1' '2' '3' ... '9'\n",
    "        'A'  0   1   2  ...  8\n",
    "        'B'  9   10  11 ...  17\n",
    "        'C'  18  19  20 ...  26\n",
    "        ...             ...\n",
    "        'I'  72  73  74 ...  80\n",
    "        \"\"\"\n",
    "        return self.X[a // 9] + self.Y[a % 9]\n",
    "\n",
    "    def str2action(self, s:str):\n",
    "        return self.X.find(s[0]) * 9 + self.Y.find(s[1])\n",
    "\n",
    "    def record_string(self):\n",
    "        \"\"\"记录动作的列表组装成字符串序列，用空格分隔\n",
    "\n",
    "        Returns\n",
    "        -------\n",
    "            一条动作的（轨迹）字符串，空格分隔方便split\n",
    "        \"\"\"\n",
    "        return ' '.join([self.action2str(a) for a in self.record])\n",
    "\n",
    "    def __str__(self):\n",
    "        # 打印棋盘\n",
    "        s = '   ' + ' '.join(self.Y) + '\\n'\n",
    "        for i in range(9):\n",
    "            s += self.X[i] + ' ' + ' '.join([self.C[self.board[i, j]] for j in range(9)]) + '\\n'\n",
    "        s += 'record = ' + self.record_string()\n",
    "        return s\n",
    "\n",
    "    def check_win(self, x:int, y:int):\n",
    "        # check whether 5 stones are on the line , pad zero around board by (4,4) then compute if sum to 5*self.color\n",
    "        x_tmp, y_tmp = x + 4, y + 4\n",
    "        boardex4 = np.pad(self.board,(4,4))\n",
    "        for i in range(5):\n",
    "            if sum(boardex4[x_tmp-4+i:x_tmp+1+i, y_tmp])==5*self.color:\n",
    "                return True\n",
    "            elif sum(boardex4[x_tmp, y_tmp-4+i:y_tmp+1+i])==5*self.color:\n",
    "                return True\n",
    "            elif boardex4[x_tmp+i-4,y_tmp+i-4]+boardex4[x_tmp+i-3,y_tmp+i-3]+boardex4[x_tmp+i-2,y_tmp+i-2]+\\\n",
    "                    boardex4[x_tmp+i-1,y_tmp+i-1]+boardex4[x_tmp+i,y_tmp+i]==5*self.color:\n",
    "                return True\n",
    "            elif boardex4[x_tmp+i-4,y_tmp-i+4]+boardex4[x_tmp+i-3,y_tmp-i+3]+boardex4[x_tmp+i-2,y_tmp-i+2]+\\\n",
    "                    boardex4[x_tmp+i-1,y_tmp-i+1]+boardex4[x_tmp+i,y_tmp-i]==5*self.color:\n",
    "                return True\n",
    "        return False\n",
    "\n",
    "    def play(self, action:Union[str, int]) -> 'State':\n",
    "        # 关于type hint : Python中的类是在读取完整个类之后才被定义的，因此在类中无法通过正常方式表示这个类本身。\n",
    "        # 替代方法是使用一个和类同名的字符串，这被称为自引用类型。\n",
    "        \"\"\"状态转移\n",
    "        Parameters\n",
    "        ----------\n",
    "            action : 0-80的落子位置int,或者动作的用空格分隔的字符串序列str\n",
    "        Returns\n",
    "        -------\n",
    "            self\n",
    "        \"\"\"\n",
    "        # 如果是一条（轨迹）字符串（该对象对应有数据结构的设计，一定程度上组织成有可遍历的特征）\n",
    "        # 那么，可直接设计递归的调用，归约为仅需实现单次的int输入的动作状态转移\n",
    "        if isinstance(action, str):\n",
    "            for astr in action.split(): # 默认用空格分隔字符串\n",
    "                self.play(self.str2action(astr))\n",
    "            return self\n",
    "\n",
    "        x, y = action // 9, action % 9\n",
    "        self.board[x, y] = self.color\n",
    "\n",
    "        # # 检查是否5子连线\n",
    "        if self.check_win(x , y):\n",
    "            self.win_color = self.color\n",
    "\n",
    "        self.color = -self.color\n",
    "        self.record.append(action)\n",
    "        return self\n",
    "\n",
    "    def terminal(self):\n",
    "        # 终止状态检查，用于selfplay循环条件\n",
    "        return self.win_color != 0 or len(self.record) == 9 * 9\n",
    "\n",
    "    def terminal_reward(self):\n",
    "        # 返回终局奖励 1，-1\n",
    "        return self.win_color if self.color == BLACK else -self.win_color\n",
    "\n",
    "    def legal_actions(self) -> List[int]:\n",
    "        # 返回根节点下的合法走子位，List of int\n",
    "        return [a for a in range(9 * 9) if self.board[a // 9, a % 9] == 0]\n",
    "\n",
    "    def feature(self, to_cuda:bool = False):\n",
    "        # making input ndarray for NN_state\n",
    "        # 堆个ndarry用作神经网络输入 : [当前行动者 ,我方视角棋盘，对方视角棋盘]\n",
    "        # support sending ndarry to cuda tensor with added a batch_dim\n",
    "        now_mover = np.ones((9, 9)) * self.color # 加1通道进卷积\n",
    "        s = np.stack([now_mover, self.board == self.color, self.board == -self.color]).astype(np.float32)\n",
    "        if to_cuda:\n",
    "            return torch.from_numpy(s).unsqueeze(0).cuda()\n",
    "        return s\n",
    "\n",
    "    def action_feature(self, action, to_cuda:bool = False):\n",
    "        # 制作动作矩阵\n",
    "        # support sending ndarry to cuda tensor with added a batch_dim\n",
    "        a = np.zeros((1, 9, 9), dtype=np.float32)\n",
    "        a[0, action // 9, action % 9] = 1\n",
    "        if to_cuda:\n",
    "            return torch.from_numpy(a).unsqueeze(0).cuda()\n",
    "        return a\n",
    "\n",
    "state = State().play('A2')\n",
    "print(state)\n",
    "print('input feature')\n",
    "print(state.feature())\n",
    "state = State().play('B2 A1 I2')\n",
    "print(state)\n",
    "print('input feature')\n",
    "print(state.feature())"
   ]
  },
  {
   "cell_type": "code",
   "execution_count": 2,
   "metadata": {},
   "outputs": [],
   "source": [
    "# 定义组件网络Res&Conv\n",
    "\n",
    "import torch\n",
    "import torch.nn as nn\n",
    "import torch.nn.functional as F\n",
    "\n",
    "class Conv(nn.Module):\n",
    "    def __init__(self, filters0, filters1, kernel_size, bn=False):\n",
    "        super().__init__()\n",
    "        self.conv = nn.Conv2d(filters0, filters1, kernel_size, stride=1, padding=kernel_size//2, bias=False)\n",
    "        self.bn = None\n",
    "        if bn:\n",
    "            self.bn = nn.BatchNorm2d(filters1)\n",
    "\n",
    "    def forward(self, x):\n",
    "        h = self.conv(x)\n",
    "        if self.bn is not None:\n",
    "            h = self.bn(h)\n",
    "        return h\n",
    "\n",
    "class ResidualBlock(nn.Module):\n",
    "    def __init__(self, filters):\n",
    "        super().__init__()\n",
    "        self.conv = Conv(filters, filters, 3, True)\n",
    "\n",
    "    def forward(self, x):\n",
    "        return F.relu(x + (self.conv(x)))"
   ]
  },
  {
   "cell_type": "code",
   "execution_count": 3,
   "metadata": {},
   "outputs": [],
   "source": [
    "num_filters = 64\n",
    "num_blocks = 6\n",
    "\n",
    "class Representation(nn.Module):\n",
    "    ''' Conversion from observation to inner abstract state '''\n",
    "    def __init__(self, input_shape):\n",
    "        super().__init__()\n",
    "        self.input_shape = input_shape # (c, 9, 9)\n",
    "        self.board_size = self.input_shape[1] * self.input_shape[2]\n",
    "        # 初始化nn.Conv2d inputchannels，outputchannels\n",
    "        self.layer0 = Conv(self.input_shape[0], num_filters, 3, bn=True)\n",
    "        self.blocks = nn.ModuleList([ResidualBlock(num_filters) for _ in range(num_blocks)])\n",
    "\n",
    "    def forward(self, x):\n",
    "        h = F.relu(self.layer0(x))\n",
    "        for block in self.blocks:\n",
    "            h = block(h)\n",
    "        return h # torch.Size([1, 16, 9, 9])\n",
    "\n",
    "    def inference(self, x, pass_to_cpu:bool = True):\n",
    "        self.eval()\n",
    "        with torch.no_grad():\n",
    "            # rp = self(torch.from_numpy(x).unsqueeze(0)) # cpu_only版本: conv2d的输入tensor需要四维，多加一维度在0位置\n",
    "            rp = self(x)\n",
    "        if not pass_to_cpu:\n",
    "            return rp # print('rp tensor shape' , rp.shape) # torch.Size([1, 16, 9, 9])\n",
    "        return rp.cpu().numpy()[0]  \n",
    "\n",
    "class Prediction(nn.Module):\n",
    "    ''' Policy and value prediction from inner abstract state '''\n",
    "    def __init__(self, action_shape):\n",
    "        super().__init__()\n",
    "        self.board_size = np.prod(action_shape[1:]) # 9 x 9 = 81\n",
    "        self.action_size = action_shape[0] * self.board_size # 1 x 81 = 81\n",
    "\n",
    "        self.conv_p1 = Conv(num_filters, 4, 1, bn=True)\n",
    "        self.conv_p2 = Conv(4, 1, 1)\n",
    "\n",
    "        self.conv_v = Conv(num_filters, 4, 1, bn=True)\n",
    "        self.fc_v = nn.Linear(self.board_size * 4, 1, bias=False)\n",
    "\n",
    "    def forward(self, rp):\n",
    "        h_p = F.relu(self.conv_p1(rp))\n",
    "        # print('过第一层p卷积', h_p.shape) # torch.Size([1, 4, 9, 9])\n",
    "        h_p = self.conv_p2(h_p).view(-1, self.action_size)\n",
    "        # print('过第二层p卷积', h_p.shape) # torch.Size([1, 81])\n",
    "        h_v = F.relu(self.conv_v(rp))\n",
    "        # print('过第一层fc卷积', h_v.shape) # torch.Size([1, 4, 9, 9])\n",
    "        h_v = self.fc_v(h_v.view(-1, self.board_size * 4))\n",
    "        # print('过第二层fc层', h_v.shape) # torch.Size([1, 1])\n",
    "        # range of value is -1 ~ 1\n",
    "        return F.softmax(h_p, dim=-1), torch.tanh(h_v)\n",
    "\n",
    "    def inference(self, rp, pass_to_cpu:bool = True):\n",
    "        self.eval()\n",
    "        with torch.no_grad():\n",
    "            # p, v = self(torch.from_numpy(rp).unsqueeze(0))\n",
    "            p, v = self(rp) # print('p shape is ', p.shape) # torch.Size([1, 81])\n",
    "        if not pass_to_cpu:\n",
    "            return p, v\n",
    "        return p.cpu().numpy()[0], v.cpu().numpy()[0][0]\n",
    "\n",
    "class Dynamics(nn.Module):\n",
    "    '''Abstract state transition'''\n",
    "    def __init__(self, rp_shape, act_shape):\n",
    "        super().__init__()\n",
    "        self.rp_shape = rp_shape\n",
    "        self.layer0 = Conv(rp_shape[0] + act_shape[0], num_filters, 3, bn=True)\n",
    "        self.blocks = nn.ModuleList([ResidualBlock(num_filters) for _ in range(num_blocks)])\n",
    "\n",
    "    def forward(self, rp, a):\n",
    "        h = torch.cat([rp, a], dim=1)\n",
    "        # print('dim=1 cat shape h ' , h.shape) # torch.Size([1, 17, 9, 9])\n",
    "        h = self.layer0(h)\n",
    "        for block in self.blocks:\n",
    "            h = block(h)\n",
    "        return h\n",
    "\n",
    "    def inference(self, rp, a, pass_to_cpu:bool = True):\n",
    "        self.eval()\n",
    "        with torch.no_grad():\n",
    "            # cpu_only版本: rp = self(torch.from_numpy(rp).unsqueeze(0), torch.from_numpy(a).unsqueeze(0))\n",
    "            rp = self(rp, a)\n",
    "        if not pass_to_cpu:\n",
    "            return rp\n",
    "        return rp.cpu().numpy()[0]\n",
    "\n",
    "class Net(nn.Module):\n",
    "    '''Whole net'''\n",
    "    def __init__(self):\n",
    "        super().__init__()\n",
    "        state = State()\n",
    "        input_shape = state.feature().shape # state (c, 9, 9)\n",
    "        action_shape = state.action_feature(0).shape # action (1, 9, 9)\n",
    "        rp_shape = (num_filters, *input_shape[1:]) # hidden space (16, 9, 9)\n",
    "\n",
    "        self.representation = Representation(input_shape)\n",
    "        self.prediction = Prediction(action_shape)\n",
    "        self.dynamics = Dynamics(rp_shape, action_shape)\n",
    "\n",
    "    def predict(self, state0, path):\n",
    "        '''Predict p and v from original state and path'''\n",
    "        outputs = []\n",
    "        x = state0.feature(to_cuda=True)\n",
    "        rp = self.representation.inference(x, pass_to_cpu= False)\n",
    "        outputs.append(self.prediction.inference(rp, pass_to_cpu = True))\n",
    "        for action in path:\n",
    "            a = state0.action_feature(action, to_cuda=True)\n",
    "            rp = self.dynamics.inference(rp, a, pass_to_cpu = False)\n",
    "            outputs.append(self.prediction.inference(rp, pass_to_cpu = True))\n",
    "        return outputs"
   ]
  },
  {
   "cell_type": "code",
   "execution_count": 4,
   "metadata": {},
   "outputs": [
    {
     "name": "stdout",
     "output_type": "stream",
     "text": [
      "   1 2 3 4 5 6 7 8 9\n",
      "A _ _ _ _ _ _ _ _ _\n",
      "B _ _ _ _ _ _ _ _ _\n",
      "C _ _ _ _ _ _ _ _ _\n",
      "D _ _ _ _ _ _ _ _ _\n",
      "E _ _ _ _ _ _ _ _ _\n",
      "F _ _ _ _ _ _ _ _ _\n",
      "G _ _ _ _ _ _ _ _ _\n",
      "H _ _ _ _ _ _ _ _ _\n",
      "I _ _ _ _ _ _ _ _ _\n",
      "record = \n",
      "p = \n",
      "[[[136 131 128 127 127 127 126 129 136]\n",
      "  [130 125 118 116 115 115 114 120 123]\n",
      "  [130 124 118 117 117 117 116 122 125]\n",
      "  [130 124 118 117 117 116 115 122 125]\n",
      "  [130 124 118 117 117 117 116 122 125]\n",
      "  [130 124 118 117 117 116 116 121 124]\n",
      "  [129 123 118 117 118 117 116 122 126]\n",
      "  [125 122 118 118 118 118 117 123 127]\n",
      "  [133 134 131 132 132 132 132 137 139]]]\n",
      "v =  0.045420434\n",
      "\n"
     ]
    }
   ],
   "source": [
    "# 给上面的三个网络做单元测试用\n",
    "def show_net(net, state):\n",
    "    '''Display policy (p) and value (v)'''\n",
    "    print(state)\n",
    "    p, v = net.predict(state, [])[-1]\n",
    "    print('p = ')\n",
    "    print((p * 10000).astype(int).reshape((-1, *net.representation.input_shape[1:3])))\n",
    "    print('v = ', v)\n",
    "    print()\n",
    "\n",
    "#  Outputs before training\n",
    "show_net(Net().cuda(), State())"
   ]
  },
  {
   "cell_type": "code",
   "execution_count": 5,
   "metadata": {},
   "outputs": [],
   "source": [
    "# 实现蒙特卡洛树搜索MCTS\n",
    "\n",
    "class Node:\n",
    "    '''Search result of one abstract (or root) state'''\n",
    "    def __init__(self, p, v):\n",
    "        self.p, self.v = p, v\n",
    "        self.n, self.q_sum = np.zeros_like(p), np.zeros_like(p)\n",
    "        self.n_all, self.q_sum_all = 1, v / 2 # prior\n",
    "\n",
    "    def update(self, action, q_new):\n",
    "        # Update\n",
    "        self.n[action] += 1\n",
    "        self.q_sum[action] += q_new\n",
    "\n",
    "        # Update overall stats\n",
    "        self.n_all += 1\n",
    "        self.q_sum_all += q_new"
   ]
  },
  {
   "cell_type": "code",
   "execution_count": 19,
   "metadata": {},
   "outputs": [],
   "source": [
    "import time\n",
    "import copy\n",
    "\n",
    "class Tree:\n",
    "    '''Monte Carlo Tree'''\n",
    "    def __init__(self, net):\n",
    "        self.net = net\n",
    "        self.nodes = {}\n",
    "\n",
    "    def search(self, state, path, rp, depth):\n",
    "        # Return predicted value from new state\n",
    "        # rp is a Tensor on Gpu\n",
    "        key = state.record_string()\n",
    "        if len(path) > 0:\n",
    "            key += '|' + ' '.join(map(state.action2str, path))\n",
    "        if key not in self.nodes:\n",
    "            p, v = self.net.prediction.inference(rp, pass_to_cpu = True)\n",
    "            self.nodes[key] = Node(p, v)\n",
    "            return v\n",
    "\n",
    "        # State transition by an action selected from bandit\n",
    "        node = self.nodes[key]\n",
    "        p = node.p\n",
    "        mask = np.zeros_like(p)\n",
    "        if depth == 0:\n",
    "            # Add noise to policy on the root node\n",
    "            p = 0.75 * p + 0.25 * np.random.dirichlet([0.15] * len(p))\n",
    "            # On the root node, we choose action only from legal actions\n",
    "            mask[state.legal_actions()] = 1\n",
    "            p *= mask\n",
    "            p /= p.sum() + 1e-16\n",
    "\n",
    "        n, q_sum = 1 + node.n, node.q_sum_all / node.n_all + node.q_sum\n",
    "        ucb = q_sum / n + 2.0 * np.sqrt(node.n_all) * p / n + mask * 4 # PUCB formula\n",
    "        best_action = np.argmax(ucb)\n",
    "\n",
    "        # Search next state by recursively calling this function\n",
    "        rp_next = self.net.dynamics.inference(rp, state.action_feature(best_action, to_cuda=True), pass_to_cpu=False)\n",
    "        path.append(best_action)\n",
    "        q_new = -self.search(state, path, rp_next, depth + 1) # With the assumption of changing player by turn\n",
    "        node.update(best_action, q_new)\n",
    "\n",
    "        return q_new\n",
    "\n",
    "    def think(self, state, num_simulations, temperature = 0, show=False):\n",
    "        # End point of MCTS\n",
    "        if show:\n",
    "            print(state)\n",
    "        start, prev_time = time.time(), 0\n",
    "        project_once = self.net.representation.inference(state.feature(to_cuda=True), pass_to_cpu=False) # Muzero在根节点状态只需rp一次，因为rpnet是固定的\n",
    "        for _ in range(num_simulations):\n",
    "            self.search(state, [], project_once, depth=0)\n",
    "            # Display search result on every second\n",
    "            if show:\n",
    "                tmp_time = time.time() - start\n",
    "                if int(tmp_time) > int(prev_time):\n",
    "                    prev_time = tmp_time\n",
    "                    root, pv = self.nodes[state.record_string()], self.pv(state)\n",
    "                    print('%.2f sec. best %s. q = %.4f. n = %d / %d. pv = %s'\n",
    "                          % (tmp_time, state.action2str(pv[0]), root.q_sum[pv[0]] / root.n[pv[0]],\n",
    "                             root.n[pv[0]], root.n_all, ' '.join([state.action2str(a) for a in pv])))\n",
    "\n",
    "        #  Return probability distribution weighted by the number of simulations\n",
    "        root = self.nodes[state.record_string()]\n",
    "        n = root.n + 1\n",
    "        n = (n / np.max(n)) ** (1 / (temperature + 1e-8))\n",
    "        return n / n.sum() # teacher--MCTS\n",
    "\n",
    "    def pv(self, state):\n",
    "        # Return principal variation (action sequence which is considered as the best)\n",
    "        s, pv_seq = copy.deepcopy(state), []\n",
    "        while True:\n",
    "            key = s.record_string()\n",
    "            if key not in self.nodes or self.nodes[key].n.sum() == 0:\n",
    "                break\n",
    "            best_action = sorted([(a, self.nodes[key].n[a]) for a in s.legal_actions()], key=lambda x: -x[1])[0][0]\n",
    "            pv_seq.append(best_action)\n",
    "            s.play(best_action)\n",
    "        return pv_seq"
   ]
  },
  {
   "cell_type": "code",
   "execution_count": 20,
   "metadata": {
    "scrolled": true
   },
   "outputs": [
    {
     "name": "stdout",
     "output_type": "stream",
     "text": [
      "   1 2 3 4 5 6 7 8 9\n",
      "A _ _ _ _ _ _ _ _ _\n",
      "B _ _ _ _ _ _ _ _ _\n",
      "C _ _ _ _ _ _ _ _ _\n",
      "D _ _ _ _ _ _ _ _ _\n",
      "E _ _ _ _ _ _ _ _ _\n",
      "F _ _ _ _ _ _ _ _ _\n",
      "G _ _ _ _ _ _ _ _ _\n",
      "H _ _ _ _ _ _ _ _ _\n",
      "I _ _ _ _ _ _ _ _ _\n",
      "record = \n",
      "   1 2 3 4 5 6 7 8 9\n",
      "A _ _ _ _ _ _ _ _ _\n",
      "B _ _ _ _ _ _ _ _ _\n",
      "C _ _ _ _ _ _ _ _ _\n",
      "D _ _ _ _ _ _ _ _ _\n",
      "E _ _ _ O O O O _ _\n",
      "F _ _ _ _ X X X _ _\n",
      "G _ _ _ _ _ _ _ _ _\n",
      "H _ _ _ _ _ _ _ _ _\n",
      "I _ _ _ _ _ _ _ _ _\n",
      "record = E4 F5 E5 F6 E6 F7 E7\n",
      "[[0.07692308 0.07692308 0.         0.         0.         0.\n",
      "  0.         0.         0.        ]\n",
      " [0.         0.         0.         0.         0.         0.\n",
      "  0.         0.         0.07692308]\n",
      " [0.         0.         0.         0.         0.07692308 0.07692308\n",
      "  0.         0.         0.        ]\n",
      " [0.         0.         0.07692308 0.         0.         0.\n",
      "  0.         0.         0.        ]\n",
      " [0.         0.         0.         0.         0.         0.\n",
      "  0.         0.         0.        ]\n",
      " [0.         0.         0.07692308 0.         0.         0.\n",
      "  0.         0.         0.        ]\n",
      " [0.         0.         0.         0.         0.         0.\n",
      "  0.07692308 0.07692308 0.        ]\n",
      " [0.         0.07692308 0.         0.07692308 0.         0.\n",
      "  0.07692308 0.         0.        ]\n",
      " [0.         0.         0.         0.         0.         0.07692308\n",
      "  0.         0.         0.        ]]\n"
     ]
    }
   ],
   "source": [
    "# Search with initialized net\n",
    "\n",
    "tree = Tree(Net().cuda())\n",
    "next_step_0 = tree.think(State(), 100, show=True)\n",
    "\n",
    "tree = Tree(Net().cuda())\n",
    "next_step_n = tree.think(State().play('E4 F5 E5 F6 E6 F7 E7'), 200, show=True)\n",
    "print(next_step_n.reshape((9, 9)))\n",
    "\n",
    "# tree = Tree(Net().cuda())\n",
    "# tree.think(State().play('F4 D5 F5 D6 F6 D7 F7'), 200, show=True)\n",
    "\n",
    "# tree = Tree(Net().cuda())\n",
    "# tree.think(State().play('B2 A2 A3 C1'), 200, show=True)"
   ]
  },
  {
   "cell_type": "code",
   "execution_count": 21,
   "metadata": {},
   "outputs": [],
   "source": [
    "# Training of neural net\n",
    "from tqdm import tqdm\n",
    "import torch.optim as optim\n",
    "\n",
    "batch_size = 32\n",
    "num_steps = 100\n",
    "\n",
    "def gen_target(ep, k):\n",
    "    '''Generate inputs and targets for training'''\n",
    "    # path, reward, observation, action, policy\n",
    "    turn_idx = np.random.randint(len(ep[0]))\n",
    "    ps, vs, ax = [], [], []\n",
    "    for t in range(turn_idx, turn_idx + k + 1):\n",
    "        if t < len(ep[0]):\n",
    "            p = ep[4][t]\n",
    "            a = ep[3][t]\n",
    "        else: # state after finishing game\n",
    "            # p is 0 (loss is 0)\n",
    "            p = np.zeros_like(ep[4][-1])\n",
    "            # random action selection\n",
    "            a = np.zeros(np.prod(ep[3][-1].shape), dtype=np.float32)\n",
    "            a[np.random.randint(len(a))] = 1\n",
    "            a = a.reshape(ep[3][-1].shape)\n",
    "        vs.append([ep[1] if t % 2 == 0 else -ep[1]])\n",
    "        ps.append(p)\n",
    "        ax.append(a)\n",
    "        \n",
    "    return ep[2][turn_idx], ax, ps, vs\n",
    "\n",
    "def train(episodes, net, optimizer):\n",
    "    #     episodes = List(record:List[int], \n",
    "    #                     reward:int(0,1,-1), \n",
    "    #                     features:state.feature(), \n",
    "    #                     action_features:state.action_feature(action) from random.choice based on distribution p_targets, \n",
    "    #                     p_targets:teacher--MCTS))\n",
    "    '''Train neural net on GPU'''\n",
    "    p_loss_sum, v_loss_sum = torch.as_tensor(0, dtype=torch.float32).cuda() , torch.as_tensor(0, dtype=torch.float32).cuda()\n",
    "    net.train()\n",
    "    k = 3 # 与alpha不同（2个状态对就可以），至少3个连续状态用来训练Muzero\n",
    "    for _ in tqdm(range(num_steps)):\n",
    "        x, ax, p_target, v_target = zip(*[gen_target(episodes[np.random.randint(len(episodes))], k) for j in range(batch_size)])\n",
    "        x = torch.from_numpy(np.array(x)).cuda()\n",
    "        ax = torch.from_numpy(np.array(ax))\n",
    "        p_target = torch.from_numpy(np.array(p_target))\n",
    "        v_target = torch.FloatTensor(np.array(v_target))\n",
    "\n",
    "        # Change the order of axis as [time step, batch, ...]\n",
    "        ax = torch.transpose(ax, 0, 1).cuda()\n",
    "        p_target = torch.transpose(p_target, 0, 1).cuda()\n",
    "        v_target = torch.transpose(v_target, 0, 1).cuda()\n",
    "\n",
    "        # Compute losses for k (+ current) steps\n",
    "        p_loss, v_loss = torch.as_tensor(0, dtype=torch.float32).cuda() , torch.as_tensor(0, dtype=torch.float32).cuda()\n",
    "        for t in range(k + 1):\n",
    "            rp = net.representation(x) if t == 0 else net.dynamics(rp, ax[t - 1])\n",
    "            p, v = net.prediction(rp)\n",
    "            p_loss += F.kl_div(torch.log(p), p_target[t], reduction='sum')\n",
    "            v_loss += torch.sum(((v_target[t] - v) ** 2) / 2)\n",
    "\n",
    "        p_loss_sum += p_loss.item()\n",
    "        v_loss_sum += v_loss.item()\n",
    "\n",
    "        optimizer.zero_grad()\n",
    "        (p_loss + v_loss).backward()\n",
    "        optimizer.step()\n",
    "\n",
    "    num_train_datum = num_steps * batch_size\n",
    "    print('p_loss %f v_loss %f' % (p_loss_sum.cpu().numpy() / num_train_datum, v_loss_sum.cpu().numpy() / num_train_datum))\n",
    "    return net"
   ]
  },
  {
   "cell_type": "code",
   "execution_count": 22,
   "metadata": {},
   "outputs": [],
   "source": [
    "#  Battle against random agents\n",
    "\n",
    "def vs_random(net, n=100):\n",
    "    results = { 0 : 0 , -1 : 0 , 1 : 0}\n",
    "    for i in range(n):\n",
    "        first_turn = i % 2 == 0\n",
    "        turn = first_turn\n",
    "        state = State()\n",
    "        while not state.terminal():\n",
    "            if turn:\n",
    "                p, _ = net.predict(state, [])[-1]\n",
    "                action = sorted([(a, p[a]) for a in state.legal_actions()], key=lambda x:-x[1])[0][0]\n",
    "            else:\n",
    "                action = np.random.choice(state.legal_actions())\n",
    "            state.play(action)\n",
    "            turn = not turn\n",
    "        r = state.terminal_reward() if turn else -state.terminal_reward()\n",
    "        results[r] = results.get(r, 0) + 1\n",
    "    return results"
   ]
  },
  {
   "cell_type": "code",
   "execution_count": 25,
   "metadata": {
    "scrolled": true
   },
   "outputs": [
    {
     "name": "stderr",
     "output_type": "stream",
     "text": [
      "  0%|          | 0/100 [00:00<?, ?it/s]"
     ]
    },
    {
     "name": "stdout",
     "output_type": "stream",
     "text": [
      "vs_random =  [(-1, 2), (0, 0), (1, 98)]\n"
     ]
    },
    {
     "name": "stderr",
     "output_type": "stream",
     "text": [
      "  1%|          | 1/100 [00:03<05:20,  3.23s/it]"
     ]
    },
    {
     "name": "stdout",
     "output_type": "stream",
     "text": [
      "game 0  "
     ]
    },
    {
     "name": "stderr",
     "output_type": "stream",
     "text": [
      "  2%|▏         | 2/100 [00:05<04:45,  2.92s/it]"
     ]
    },
    {
     "name": "stdout",
     "output_type": "stream",
     "text": [
      "1  "
     ]
    },
    {
     "name": "stderr",
     "output_type": "stream",
     "text": [
      "  3%|▎         | 3/100 [00:10<05:59,  3.70s/it]"
     ]
    },
    {
     "name": "stdout",
     "output_type": "stream",
     "text": [
      "2  "
     ]
    },
    {
     "name": "stderr",
     "output_type": "stream",
     "text": [
      "  4%|▍         | 4/100 [00:15<06:22,  3.98s/it]"
     ]
    },
    {
     "name": "stdout",
     "output_type": "stream",
     "text": [
      "3  "
     ]
    },
    {
     "name": "stderr",
     "output_type": "stream",
     "text": [
      "  5%|▌         | 5/100 [00:19<06:15,  3.95s/it]"
     ]
    },
    {
     "name": "stdout",
     "output_type": "stream",
     "text": [
      "4  "
     ]
    },
    {
     "name": "stderr",
     "output_type": "stream",
     "text": [
      "  6%|▌         | 6/100 [00:21<05:20,  3.41s/it]"
     ]
    },
    {
     "name": "stdout",
     "output_type": "stream",
     "text": [
      "5  "
     ]
    },
    {
     "name": "stderr",
     "output_type": "stream",
     "text": [
      "  7%|▋         | 7/100 [00:30<07:46,  5.02s/it]"
     ]
    },
    {
     "name": "stdout",
     "output_type": "stream",
     "text": [
      "6  "
     ]
    },
    {
     "name": "stderr",
     "output_type": "stream",
     "text": [
      "  8%|▊         | 8/100 [00:34<07:04,  4.62s/it]"
     ]
    },
    {
     "name": "stdout",
     "output_type": "stream",
     "text": [
      "7  "
     ]
    },
    {
     "name": "stderr",
     "output_type": "stream",
     "text": [
      "  9%|▉         | 9/100 [00:37<06:26,  4.25s/it]"
     ]
    },
    {
     "name": "stdout",
     "output_type": "stream",
     "text": [
      "8  "
     ]
    },
    {
     "name": "stderr",
     "output_type": "stream",
     "text": [
      " 10%|█         | 10/100 [00:43<07:02,  4.69s/it]"
     ]
    },
    {
     "name": "stdout",
     "output_type": "stream",
     "text": [
      "9  "
     ]
    },
    {
     "name": "stderr",
     "output_type": "stream",
     "text": [
      " 11%|█         | 11/100 [00:51<08:23,  5.66s/it]"
     ]
    },
    {
     "name": "stdout",
     "output_type": "stream",
     "text": [
      "10  "
     ]
    },
    {
     "name": "stderr",
     "output_type": "stream",
     "text": [
      " 12%|█▏        | 12/100 [00:56<08:18,  5.66s/it]"
     ]
    },
    {
     "name": "stdout",
     "output_type": "stream",
     "text": [
      "11  "
     ]
    },
    {
     "name": "stderr",
     "output_type": "stream",
     "text": [
      " 13%|█▎        | 13/100 [01:01<07:40,  5.29s/it]"
     ]
    },
    {
     "name": "stdout",
     "output_type": "stream",
     "text": [
      "12  "
     ]
    },
    {
     "name": "stderr",
     "output_type": "stream",
     "text": [
      " 14%|█▍        | 14/100 [01:04<06:34,  4.58s/it]"
     ]
    },
    {
     "name": "stdout",
     "output_type": "stream",
     "text": [
      "13  "
     ]
    },
    {
     "name": "stderr",
     "output_type": "stream",
     "text": [
      " 15%|█▌        | 15/100 [01:06<05:42,  4.03s/it]"
     ]
    },
    {
     "name": "stdout",
     "output_type": "stream",
     "text": [
      "14  "
     ]
    },
    {
     "name": "stderr",
     "output_type": "stream",
     "text": [
      " 16%|█▌        | 16/100 [01:12<06:27,  4.61s/it]"
     ]
    },
    {
     "name": "stdout",
     "output_type": "stream",
     "text": [
      "15  "
     ]
    },
    {
     "name": "stderr",
     "output_type": "stream",
     "text": [
      " 17%|█▋        | 17/100 [01:16<06:08,  4.44s/it]"
     ]
    },
    {
     "name": "stdout",
     "output_type": "stream",
     "text": [
      "16  "
     ]
    },
    {
     "name": "stderr",
     "output_type": "stream",
     "text": [
      " 18%|█▊        | 18/100 [01:26<08:16,  6.05s/it]"
     ]
    },
    {
     "name": "stdout",
     "output_type": "stream",
     "text": [
      "17  "
     ]
    },
    {
     "name": "stderr",
     "output_type": "stream",
     "text": [
      " 19%|█▉        | 19/100 [01:32<07:54,  5.85s/it]"
     ]
    },
    {
     "name": "stdout",
     "output_type": "stream",
     "text": [
      "18  "
     ]
    },
    {
     "name": "stderr",
     "output_type": "stream",
     "text": [
      " 20%|██        | 20/100 [01:37<07:47,  5.85s/it]"
     ]
    },
    {
     "name": "stdout",
     "output_type": "stream",
     "text": [
      "19  "
     ]
    },
    {
     "name": "stderr",
     "output_type": "stream",
     "text": [
      " 21%|██        | 21/100 [01:40<06:25,  4.88s/it]"
     ]
    },
    {
     "name": "stdout",
     "output_type": "stream",
     "text": [
      "20  "
     ]
    },
    {
     "name": "stderr",
     "output_type": "stream",
     "text": [
      " 22%|██▏       | 22/100 [01:44<06:04,  4.67s/it]"
     ]
    },
    {
     "name": "stdout",
     "output_type": "stream",
     "text": [
      "21  "
     ]
    },
    {
     "name": "stderr",
     "output_type": "stream",
     "text": [
      " 23%|██▎       | 23/100 [01:48<05:48,  4.52s/it]"
     ]
    },
    {
     "name": "stdout",
     "output_type": "stream",
     "text": [
      "22  "
     ]
    },
    {
     "name": "stderr",
     "output_type": "stream",
     "text": [
      " 24%|██▍       | 24/100 [01:52<05:26,  4.30s/it]"
     ]
    },
    {
     "name": "stdout",
     "output_type": "stream",
     "text": [
      "23  "
     ]
    },
    {
     "name": "stderr",
     "output_type": "stream",
     "text": [
      " 25%|██▌       | 25/100 [01:57<05:32,  4.44s/it]"
     ]
    },
    {
     "name": "stdout",
     "output_type": "stream",
     "text": [
      "24  "
     ]
    },
    {
     "name": "stderr",
     "output_type": "stream",
     "text": [
      " 26%|██▌       | 26/100 [02:00<04:51,  3.93s/it]"
     ]
    },
    {
     "name": "stdout",
     "output_type": "stream",
     "text": [
      "25  "
     ]
    },
    {
     "name": "stderr",
     "output_type": "stream",
     "text": [
      " 27%|██▋       | 27/100 [02:07<05:55,  4.87s/it]"
     ]
    },
    {
     "name": "stdout",
     "output_type": "stream",
     "text": [
      "26  "
     ]
    },
    {
     "name": "stderr",
     "output_type": "stream",
     "text": [
      " 28%|██▊       | 28/100 [02:10<05:21,  4.47s/it]"
     ]
    },
    {
     "name": "stdout",
     "output_type": "stream",
     "text": [
      "27  "
     ]
    },
    {
     "name": "stderr",
     "output_type": "stream",
     "text": [
      " 29%|██▉       | 29/100 [02:24<08:28,  7.16s/it]"
     ]
    },
    {
     "name": "stdout",
     "output_type": "stream",
     "text": [
      "28  "
     ]
    },
    {
     "name": "stderr",
     "output_type": "stream",
     "text": [
      " 30%|███       | 30/100 [02:27<07:02,  6.03s/it]"
     ]
    },
    {
     "name": "stdout",
     "output_type": "stream",
     "text": [
      "29  "
     ]
    },
    {
     "name": "stderr",
     "output_type": "stream",
     "text": [
      " 31%|███       | 31/100 [02:31<06:07,  5.32s/it]"
     ]
    },
    {
     "name": "stdout",
     "output_type": "stream",
     "text": [
      "30  "
     ]
    },
    {
     "name": "stderr",
     "output_type": "stream",
     "text": [
      " 32%|███▏      | 32/100 [02:36<05:55,  5.23s/it]"
     ]
    },
    {
     "name": "stdout",
     "output_type": "stream",
     "text": [
      "31  "
     ]
    },
    {
     "name": "stderr",
     "output_type": "stream",
     "text": [
      " 33%|███▎      | 33/100 [02:40<05:20,  4.79s/it]"
     ]
    },
    {
     "name": "stdout",
     "output_type": "stream",
     "text": [
      "32  "
     ]
    },
    {
     "name": "stderr",
     "output_type": "stream",
     "text": [
      " 34%|███▍      | 34/100 [02:47<06:12,  5.64s/it]"
     ]
    },
    {
     "name": "stdout",
     "output_type": "stream",
     "text": [
      "33  "
     ]
    },
    {
     "name": "stderr",
     "output_type": "stream",
     "text": [
      " 35%|███▌      | 35/100 [02:50<05:10,  4.78s/it]"
     ]
    },
    {
     "name": "stdout",
     "output_type": "stream",
     "text": [
      "34  "
     ]
    },
    {
     "name": "stderr",
     "output_type": "stream",
     "text": [
      " 36%|███▌      | 36/100 [02:55<05:02,  4.73s/it]"
     ]
    },
    {
     "name": "stdout",
     "output_type": "stream",
     "text": [
      "35  "
     ]
    },
    {
     "name": "stderr",
     "output_type": "stream",
     "text": [
      " 37%|███▋      | 37/100 [02:58<04:33,  4.34s/it]"
     ]
    },
    {
     "name": "stdout",
     "output_type": "stream",
     "text": [
      "36  "
     ]
    },
    {
     "name": "stderr",
     "output_type": "stream",
     "text": [
      " 38%|███▊      | 38/100 [03:03<04:43,  4.56s/it]"
     ]
    },
    {
     "name": "stdout",
     "output_type": "stream",
     "text": [
      "37  "
     ]
    },
    {
     "name": "stderr",
     "output_type": "stream",
     "text": [
      " 39%|███▉      | 39/100 [03:13<06:14,  6.14s/it]"
     ]
    },
    {
     "name": "stdout",
     "output_type": "stream",
     "text": [
      "38  "
     ]
    },
    {
     "name": "stderr",
     "output_type": "stream",
     "text": [
      " 40%|████      | 40/100 [03:20<06:24,  6.40s/it]"
     ]
    },
    {
     "name": "stdout",
     "output_type": "stream",
     "text": [
      "39  "
     ]
    },
    {
     "name": "stderr",
     "output_type": "stream",
     "text": [
      " 41%|████      | 41/100 [03:28<06:50,  6.96s/it]"
     ]
    },
    {
     "name": "stdout",
     "output_type": "stream",
     "text": [
      "40  "
     ]
    },
    {
     "name": "stderr",
     "output_type": "stream",
     "text": [
      " 42%|████▏     | 42/100 [03:33<06:06,  6.31s/it]"
     ]
    },
    {
     "name": "stdout",
     "output_type": "stream",
     "text": [
      "41  "
     ]
    },
    {
     "name": "stderr",
     "output_type": "stream",
     "text": [
      " 43%|████▎     | 43/100 [03:39<05:47,  6.09s/it]"
     ]
    },
    {
     "name": "stdout",
     "output_type": "stream",
     "text": [
      "42  "
     ]
    },
    {
     "name": "stderr",
     "output_type": "stream",
     "text": [
      " 44%|████▍     | 44/100 [03:51<07:34,  8.11s/it]"
     ]
    },
    {
     "name": "stdout",
     "output_type": "stream",
     "text": [
      "43  "
     ]
    },
    {
     "name": "stderr",
     "output_type": "stream",
     "text": [
      " 45%|████▌     | 45/100 [03:55<06:15,  6.83s/it]"
     ]
    },
    {
     "name": "stdout",
     "output_type": "stream",
     "text": [
      "44  "
     ]
    },
    {
     "name": "stderr",
     "output_type": "stream",
     "text": [
      " 46%|████▌     | 46/100 [03:58<05:04,  5.64s/it]"
     ]
    },
    {
     "name": "stdout",
     "output_type": "stream",
     "text": [
      "45  "
     ]
    },
    {
     "name": "stderr",
     "output_type": "stream",
     "text": [
      " 47%|████▋     | 47/100 [04:02<04:24,  4.99s/it]"
     ]
    },
    {
     "name": "stdout",
     "output_type": "stream",
     "text": [
      "46  "
     ]
    },
    {
     "name": "stderr",
     "output_type": "stream",
     "text": [
      " 48%|████▊     | 48/100 [04:06<04:12,  4.86s/it]"
     ]
    },
    {
     "name": "stdout",
     "output_type": "stream",
     "text": [
      "47  "
     ]
    },
    {
     "name": "stderr",
     "output_type": "stream",
     "text": [
      " 49%|████▉     | 49/100 [04:12<04:25,  5.20s/it]"
     ]
    },
    {
     "name": "stdout",
     "output_type": "stream",
     "text": [
      "48  "
     ]
    },
    {
     "name": "stderr",
     "output_type": "stream",
     "text": []
    },
    {
     "name": "stdout",
     "output_type": "stream",
     "text": [
      "49  generated =  [(-1, 16), (0, 0), (1, 34)]\n"
     ]
    },
    {
     "name": "stderr",
     "output_type": "stream",
     "text": [
      "100%|██████████| 100/100 [00:01<00:00, 54.87it/s]\n"
     ]
    },
    {
     "name": "stdout",
     "output_type": "stream",
     "text": [
      "p_loss 2.586219 v_loss 0.583698\n"
     ]
    },
    {
     "name": "stderr",
     "output_type": "stream",
     "text": [
      " 50%|█████     | 50/100 [04:22<05:26,  6.54s/it]"
     ]
    },
    {
     "name": "stdout",
     "output_type": "stream",
     "text": [
      "vs_random =  [(-1, 1), (0, 0), (1, 99)] sum =  [(-1, 3), (0, 0), (1, 197)]\n"
     ]
    },
    {
     "name": "stderr",
     "output_type": "stream",
     "text": [
      " 51%|█████     | 51/100 [04:27<04:54,  6.02s/it]"
     ]
    },
    {
     "name": "stdout",
     "output_type": "stream",
     "text": [
      "game 50  "
     ]
    },
    {
     "name": "stderr",
     "output_type": "stream",
     "text": [
      " 52%|█████▏    | 52/100 [04:35<05:21,  6.70s/it]"
     ]
    },
    {
     "name": "stdout",
     "output_type": "stream",
     "text": [
      "51  "
     ]
    },
    {
     "name": "stderr",
     "output_type": "stream",
     "text": [
      " 53%|█████▎    | 53/100 [04:40<04:53,  6.25s/it]"
     ]
    },
    {
     "name": "stdout",
     "output_type": "stream",
     "text": [
      "52  "
     ]
    },
    {
     "name": "stderr",
     "output_type": "stream",
     "text": [
      " 54%|█████▍    | 54/100 [04:46<04:44,  6.18s/it]"
     ]
    },
    {
     "name": "stdout",
     "output_type": "stream",
     "text": [
      "53  "
     ]
    },
    {
     "name": "stderr",
     "output_type": "stream",
     "text": [
      " 55%|█████▌    | 55/100 [05:03<07:03,  9.40s/it]"
     ]
    },
    {
     "name": "stdout",
     "output_type": "stream",
     "text": [
      "54  "
     ]
    },
    {
     "name": "stderr",
     "output_type": "stream",
     "text": [
      " 56%|█████▌    | 56/100 [05:08<06:01,  8.22s/it]"
     ]
    },
    {
     "name": "stdout",
     "output_type": "stream",
     "text": [
      "55  "
     ]
    },
    {
     "name": "stderr",
     "output_type": "stream",
     "text": [
      " 57%|█████▋    | 57/100 [05:15<05:27,  7.61s/it]"
     ]
    },
    {
     "name": "stdout",
     "output_type": "stream",
     "text": [
      "56  "
     ]
    },
    {
     "name": "stderr",
     "output_type": "stream",
     "text": [
      " 58%|█████▊    | 58/100 [05:22<05:16,  7.53s/it]"
     ]
    },
    {
     "name": "stdout",
     "output_type": "stream",
     "text": [
      "57  "
     ]
    },
    {
     "name": "stderr",
     "output_type": "stream",
     "text": [
      " 59%|█████▉    | 59/100 [05:28<04:46,  6.98s/it]"
     ]
    },
    {
     "name": "stdout",
     "output_type": "stream",
     "text": [
      "58  "
     ]
    },
    {
     "name": "stderr",
     "output_type": "stream",
     "text": [
      " 60%|██████    | 60/100 [05:34<04:28,  6.72s/it]"
     ]
    },
    {
     "name": "stdout",
     "output_type": "stream",
     "text": [
      "59  "
     ]
    },
    {
     "name": "stderr",
     "output_type": "stream",
     "text": [
      " 61%|██████    | 61/100 [05:38<03:52,  5.96s/it]"
     ]
    },
    {
     "name": "stdout",
     "output_type": "stream",
     "text": [
      "60  "
     ]
    },
    {
     "name": "stderr",
     "output_type": "stream",
     "text": [
      " 62%|██████▏   | 62/100 [05:44<03:42,  5.85s/it]"
     ]
    },
    {
     "name": "stdout",
     "output_type": "stream",
     "text": [
      "61  "
     ]
    },
    {
     "name": "stderr",
     "output_type": "stream",
     "text": [
      " 63%|██████▎   | 63/100 [05:50<03:42,  6.00s/it]"
     ]
    },
    {
     "name": "stdout",
     "output_type": "stream",
     "text": [
      "62  "
     ]
    },
    {
     "name": "stderr",
     "output_type": "stream",
     "text": [
      " 64%|██████▍   | 64/100 [05:56<03:32,  5.89s/it]"
     ]
    },
    {
     "name": "stdout",
     "output_type": "stream",
     "text": [
      "63  "
     ]
    },
    {
     "name": "stderr",
     "output_type": "stream",
     "text": [
      " 65%|██████▌   | 65/100 [05:59<02:55,  5.02s/it]"
     ]
    },
    {
     "name": "stdout",
     "output_type": "stream",
     "text": [
      "64  "
     ]
    },
    {
     "name": "stderr",
     "output_type": "stream",
     "text": [
      " 66%|██████▌   | 66/100 [06:03<02:49,  4.99s/it]"
     ]
    },
    {
     "name": "stdout",
     "output_type": "stream",
     "text": [
      "65  "
     ]
    },
    {
     "name": "stderr",
     "output_type": "stream",
     "text": [
      " 67%|██████▋   | 67/100 [06:07<02:34,  4.67s/it]"
     ]
    },
    {
     "name": "stdout",
     "output_type": "stream",
     "text": [
      "66  "
     ]
    },
    {
     "name": "stderr",
     "output_type": "stream",
     "text": [
      " 68%|██████▊   | 68/100 [06:11<02:22,  4.45s/it]"
     ]
    },
    {
     "name": "stdout",
     "output_type": "stream",
     "text": [
      "67  "
     ]
    },
    {
     "name": "stderr",
     "output_type": "stream",
     "text": [
      " 69%|██████▉   | 69/100 [06:15<02:09,  4.16s/it]"
     ]
    },
    {
     "name": "stdout",
     "output_type": "stream",
     "text": [
      "68  "
     ]
    },
    {
     "name": "stderr",
     "output_type": "stream",
     "text": [
      " 70%|███████   | 70/100 [06:22<02:29,  4.99s/it]"
     ]
    },
    {
     "name": "stdout",
     "output_type": "stream",
     "text": [
      "69  "
     ]
    },
    {
     "name": "stderr",
     "output_type": "stream",
     "text": [
      " 71%|███████   | 71/100 [06:26<02:17,  4.73s/it]"
     ]
    },
    {
     "name": "stdout",
     "output_type": "stream",
     "text": [
      "70  "
     ]
    },
    {
     "name": "stderr",
     "output_type": "stream",
     "text": [
      " 72%|███████▏  | 72/100 [06:29<01:59,  4.26s/it]"
     ]
    },
    {
     "name": "stdout",
     "output_type": "stream",
     "text": [
      "71  "
     ]
    },
    {
     "name": "stderr",
     "output_type": "stream",
     "text": [
      " 73%|███████▎  | 73/100 [06:35<02:07,  4.73s/it]"
     ]
    },
    {
     "name": "stdout",
     "output_type": "stream",
     "text": [
      "72  "
     ]
    },
    {
     "name": "stderr",
     "output_type": "stream",
     "text": [
      " 74%|███████▍  | 74/100 [06:48<03:10,  7.32s/it]"
     ]
    },
    {
     "name": "stdout",
     "output_type": "stream",
     "text": [
      "73  "
     ]
    },
    {
     "name": "stderr",
     "output_type": "stream",
     "text": [
      " 75%|███████▌  | 75/100 [06:58<03:21,  8.08s/it]"
     ]
    },
    {
     "name": "stdout",
     "output_type": "stream",
     "text": [
      "74  "
     ]
    },
    {
     "name": "stderr",
     "output_type": "stream",
     "text": [
      " 76%|███████▌  | 76/100 [07:03<02:48,  7.01s/it]"
     ]
    },
    {
     "name": "stdout",
     "output_type": "stream",
     "text": [
      "75  "
     ]
    },
    {
     "name": "stderr",
     "output_type": "stream",
     "text": [
      " 77%|███████▋  | 77/100 [07:06<02:19,  6.07s/it]"
     ]
    },
    {
     "name": "stdout",
     "output_type": "stream",
     "text": [
      "76  "
     ]
    },
    {
     "name": "stderr",
     "output_type": "stream",
     "text": [
      " 78%|███████▊  | 78/100 [07:11<02:03,  5.61s/it]"
     ]
    },
    {
     "name": "stdout",
     "output_type": "stream",
     "text": [
      "77  "
     ]
    },
    {
     "name": "stderr",
     "output_type": "stream",
     "text": [
      " 79%|███████▉  | 79/100 [07:15<01:46,  5.08s/it]"
     ]
    },
    {
     "name": "stdout",
     "output_type": "stream",
     "text": [
      "78  "
     ]
    },
    {
     "name": "stderr",
     "output_type": "stream",
     "text": [
      " 80%|████████  | 80/100 [07:26<02:15,  6.78s/it]"
     ]
    },
    {
     "name": "stdout",
     "output_type": "stream",
     "text": [
      "79  "
     ]
    },
    {
     "name": "stderr",
     "output_type": "stream",
     "text": [
      " 81%|████████  | 81/100 [07:31<02:02,  6.45s/it]"
     ]
    },
    {
     "name": "stdout",
     "output_type": "stream",
     "text": [
      "80  "
     ]
    },
    {
     "name": "stderr",
     "output_type": "stream",
     "text": [
      " 82%|████████▏ | 82/100 [07:36<01:46,  5.93s/it]"
     ]
    },
    {
     "name": "stdout",
     "output_type": "stream",
     "text": [
      "81  "
     ]
    },
    {
     "name": "stderr",
     "output_type": "stream",
     "text": [
      " 83%|████████▎ | 83/100 [07:42<01:42,  6.02s/it]"
     ]
    },
    {
     "name": "stdout",
     "output_type": "stream",
     "text": [
      "82  "
     ]
    },
    {
     "name": "stderr",
     "output_type": "stream",
     "text": [
      " 84%|████████▍ | 84/100 [07:46<01:23,  5.25s/it]"
     ]
    },
    {
     "name": "stdout",
     "output_type": "stream",
     "text": [
      "83  "
     ]
    },
    {
     "name": "stderr",
     "output_type": "stream",
     "text": [
      " 85%|████████▌ | 85/100 [07:51<01:20,  5.40s/it]"
     ]
    },
    {
     "name": "stdout",
     "output_type": "stream",
     "text": [
      "84  "
     ]
    },
    {
     "name": "stderr",
     "output_type": "stream",
     "text": [
      " 86%|████████▌ | 86/100 [07:55<01:07,  4.79s/it]"
     ]
    },
    {
     "name": "stdout",
     "output_type": "stream",
     "text": [
      "85  "
     ]
    },
    {
     "name": "stderr",
     "output_type": "stream",
     "text": [
      " 87%|████████▋ | 87/100 [07:58<00:55,  4.27s/it]"
     ]
    },
    {
     "name": "stdout",
     "output_type": "stream",
     "text": [
      "86  "
     ]
    },
    {
     "name": "stderr",
     "output_type": "stream",
     "text": [
      " 88%|████████▊ | 88/100 [08:01<00:48,  4.03s/it]"
     ]
    },
    {
     "name": "stdout",
     "output_type": "stream",
     "text": [
      "87  "
     ]
    },
    {
     "name": "stderr",
     "output_type": "stream",
     "text": [
      " 89%|████████▉ | 89/100 [08:07<00:49,  4.51s/it]"
     ]
    },
    {
     "name": "stdout",
     "output_type": "stream",
     "text": [
      "88  "
     ]
    },
    {
     "name": "stderr",
     "output_type": "stream",
     "text": [
      " 90%|█████████ | 90/100 [08:11<00:42,  4.26s/it]"
     ]
    },
    {
     "name": "stdout",
     "output_type": "stream",
     "text": [
      "89  "
     ]
    },
    {
     "name": "stderr",
     "output_type": "stream",
     "text": [
      " 91%|█████████ | 91/100 [08:17<00:45,  5.04s/it]"
     ]
    },
    {
     "name": "stdout",
     "output_type": "stream",
     "text": [
      "90  "
     ]
    },
    {
     "name": "stderr",
     "output_type": "stream",
     "text": [
      " 92%|█████████▏| 92/100 [08:32<01:03,  7.89s/it]"
     ]
    },
    {
     "name": "stdout",
     "output_type": "stream",
     "text": [
      "91  "
     ]
    },
    {
     "name": "stderr",
     "output_type": "stream",
     "text": [
      " 93%|█████████▎| 93/100 [08:35<00:45,  6.43s/it]"
     ]
    },
    {
     "name": "stdout",
     "output_type": "stream",
     "text": [
      "92  "
     ]
    },
    {
     "name": "stderr",
     "output_type": "stream",
     "text": [
      " 94%|█████████▍| 94/100 [08:39<00:33,  5.55s/it]"
     ]
    },
    {
     "name": "stdout",
     "output_type": "stream",
     "text": [
      "93  "
     ]
    },
    {
     "name": "stderr",
     "output_type": "stream",
     "text": [
      " 95%|█████████▌| 95/100 [08:55<00:44,  8.86s/it]"
     ]
    },
    {
     "name": "stdout",
     "output_type": "stream",
     "text": [
      "94  "
     ]
    },
    {
     "name": "stderr",
     "output_type": "stream",
     "text": [
      " 96%|█████████▌| 96/100 [09:00<00:30,  7.72s/it]"
     ]
    },
    {
     "name": "stdout",
     "output_type": "stream",
     "text": [
      "95  "
     ]
    },
    {
     "name": "stderr",
     "output_type": "stream",
     "text": [
      " 97%|█████████▋| 97/100 [09:12<00:26,  8.83s/it]"
     ]
    },
    {
     "name": "stdout",
     "output_type": "stream",
     "text": [
      "96  "
     ]
    },
    {
     "name": "stderr",
     "output_type": "stream",
     "text": [
      " 98%|█████████▊| 98/100 [09:15<00:14,  7.26s/it]"
     ]
    },
    {
     "name": "stdout",
     "output_type": "stream",
     "text": [
      "97  "
     ]
    },
    {
     "name": "stderr",
     "output_type": "stream",
     "text": [
      " 99%|█████████▉| 99/100 [09:19<00:06,  6.25s/it]"
     ]
    },
    {
     "name": "stdout",
     "output_type": "stream",
     "text": [
      "98  "
     ]
    },
    {
     "name": "stderr",
     "output_type": "stream",
     "text": []
    },
    {
     "name": "stdout",
     "output_type": "stream",
     "text": [
      "99  generated =  [(-1, 27), (0, 0), (1, 73)]\n"
     ]
    },
    {
     "name": "stderr",
     "output_type": "stream",
     "text": [
      "100%|██████████| 100/100 [00:01<00:00, 50.84it/s]\n"
     ]
    },
    {
     "name": "stdout",
     "output_type": "stream",
     "text": [
      "p_loss 2.656111 v_loss 0.560035\n"
     ]
    },
    {
     "name": "stderr",
     "output_type": "stream",
     "text": [
      "100%|██████████| 100/100 [09:30<00:00,  5.70s/it]"
     ]
    },
    {
     "name": "stdout",
     "output_type": "stream",
     "text": [
      "vs_random =  [(-1, 5), (0, 0), (1, 95)] sum =  [(-1, 8), (0, 0), (1, 292)]\n",
      "finished\n"
     ]
    },
    {
     "name": "stderr",
     "output_type": "stream",
     "text": [
      "\n"
     ]
    }
   ],
   "source": [
    "# Main algorithm of MuZero\n",
    "from collections import deque\n",
    "\n",
    "PATH = '.model/checkpoints/'\n",
    "\n",
    "num_games = 100          # selfplay的总局数\n",
    "num_games_one_epoch = 50 # 每selfplay多少轮，训练模型一次\n",
    "num_simulations = 100    # 每个Node的search搜索次数\n",
    "\n",
    "# load net parameters train&save on GPU\n",
    "net = Net()\n",
    "net.load_state_dict(torch.load(PATH + '1000r.pt'))\n",
    "net.cuda()\n",
    "\n",
    "# net = Net().cuda() # initial training\n",
    "\n",
    "optimizer = optim.SGD(net.parameters(), lr=3e-4, weight_decay=3e-5, momentum=0.8)\n",
    "\n",
    "# Display battle results as {-1: lose 0: draw 1: win} (for episode generated for training, 1 means that the first player won)\n",
    "vs_random_sum = vs_random(net)\n",
    "print('vs_random = ', sorted(vs_random_sum.items()))\n",
    "\n",
    "# episodes = []\n",
    "episodes = deque([], maxlen=200) # 移动队列用于存储最新的模型游戏\n",
    "\n",
    "result_distribution = {1: 0, 0: 0, -1: 0}\n",
    "\n",
    "for g in tqdm(range(num_games)):\n",
    "    # Generate one episode\n",
    "    record, p_targets, features, action_features = [], [], [], []\n",
    "    state = State()\n",
    "    # temperature using to make policy targets from search results\n",
    "    temperature = 0.7\n",
    "\n",
    "    tree = Tree(net) # 每轮游戏维护同一个树\n",
    "\n",
    "    while not state.terminal():\n",
    "        # tree = Tree(net) # 有必要每走一步都新建一个搜索树么？移到循环外面可以么？\n",
    "        p_target = tree.think(state, num_simulations, temperature)\n",
    "        p_targets.append(p_target)\n",
    "        features.append(state.feature())\n",
    "\n",
    "        # Select action with generated distribution, and then make a transition by that action\n",
    "        action = np.random.choice(np.arange(len(p_target)), p=p_target)\n",
    "        record.append(action)\n",
    "        action_features.append(state.action_feature(action))\n",
    "        state.play(action)\n",
    "        temperature *= 0.8 # 这个温度参数感觉意义不明。。。？\n",
    "\n",
    "    # reward seen from the first turn player\n",
    "    reward = state.terminal_reward() * (1 if len(record) % 2 == 0 else -1)\n",
    "    result_distribution[reward] += 1\n",
    "    episodes.append((record, reward, features, action_features, p_targets))\n",
    "\n",
    "    if g % num_games_one_epoch == 0:\n",
    "        print('game ', end='')\n",
    "    print(g, ' ', end='')\n",
    "\n",
    "    # Training of neural net\n",
    "    if (g + 1) % num_games_one_epoch == 0:\n",
    "        # Show the result distributiuon of generated episodes\n",
    "        print('generated = ', sorted(result_distribution.items()))\n",
    "        epi = list(episodes.copy())\n",
    "        net = train(episodes=epi, net=net, optimizer=optimizer)\n",
    "        vs_random_once = vs_random(net)\n",
    "        print('vs_random = ', sorted(vs_random_once.items()), end='')\n",
    "        for r, n in vs_random_once.items():\n",
    "            vs_random_sum[r] += n\n",
    "        print(' sum = ', sorted(vs_random_sum.items()))\n",
    "        # new_checkpoint_path = f'/.model/checkpoints/{g}.pt'\n",
    "        # torch.save(net.state_dict(), new_checkpoint_path)\n",
    "\n",
    "print('finished')"
   ]
  },
  {
   "cell_type": "code",
   "execution_count": 16,
   "metadata": {},
   "outputs": [],
   "source": [
    "new_checkpoint_path = f'.model/checkpoints/1000r.pt'\n",
    "torch.save(net.state_dict(), new_checkpoint_path)\n",
    "\n",
    "# related tips\n",
    "# 4. Trained and Save on GPU, Load on GPU\n",
    "# ~~~~~~~~~~~~~~~~~~~~~~~~~~~~~~~\n",
    "# \n",
    "# When loading a model on a GPU that was trained and saved on GPU, \n",
    "# simply\n",
    "# convert the initialized model to a CUDA optimized model using\n",
    "# ``model.to(torch.device('cuda'))``.\n",
    "# \n",
    "# Be sure to use the ``.to(torch.device('cuda'))`` function \n",
    "# on all model inputs \n",
    "# to prepare the data for the model.\n",
    "\n",
    "# PATH = \"model.pt\"\n",
    "# net.cuda()\n",
    "# # Save\n",
    "# torch.save(net.state_dict(), PATH)\n",
    "\n",
    "# # Load\n",
    "# device = torch.device(\"cuda\")\n",
    "# model = Net()\n",
    "# model.load_state_dict(torch.load(PATH))\n",
    "# model.to(device)"
   ]
  },
  {
   "cell_type": "code",
   "execution_count": 27,
   "metadata": {},
   "outputs": [
    {
     "name": "stdout",
     "output_type": "stream",
     "text": [
      "   1 2 3 4 5 6 7 8 9\n",
      "A _ _ _ _ _ _ _ _ _\n",
      "B _ _ _ _ _ _ _ _ _\n",
      "C _ _ _ _ _ _ _ _ _\n",
      "D _ _ _ _ _ _ _ _ _\n",
      "E _ _ _ O O O O _ _\n",
      "F _ _ _ _ X X X _ _\n",
      "G _ _ _ _ _ _ _ _ _\n",
      "H _ _ _ _ _ _ _ _ _\n",
      "I _ _ _ _ _ _ _ _ _\n",
      "record = E4 F5 E5 F6 E6 F7 E7\n",
      "1.00 sec. best D8. q = -0.6277. n = 32 / 245. pv = D8\n",
      "2.00 sec. best D8. q = -0.6442. n = 38 / 414. pv = D8\n",
      "3.00 sec. best D8. q = -0.6584. n = 47 / 552. pv = D8\n",
      "4.00 sec. best D8. q = -0.6583. n = 61 / 675. pv = D8\n",
      "5.00 sec. best D8. q = -0.6892. n = 75 / 797. pv = D8\n",
      "6.00 sec. best D8. q = -0.6955. n = 89 / 956. pv = D8\n",
      "7.00 sec. best D8. q = -0.7111. n = 99 / 1104. pv = D8\n",
      "8.01 sec. best D8. q = -0.7193. n = 109 / 1233. pv = D8\n",
      "9.00 sec. best D8. q = -0.7177. n = 119 / 1345. pv = D8\n",
      "10.01 sec. best D8. q = -0.7185. n = 129 / 1463. pv = D8\n",
      "11.00 sec. best D8. q = -0.7191. n = 141 / 1588. pv = D8\n",
      "12.00 sec. best D8. q = -0.7202. n = 145 / 1732. pv = D8\n",
      "13.00 sec. best D8. q = -0.7243. n = 149 / 1882. pv = D8\n",
      "[[0. 0. 0. 0. 0. 0. 0. 0. 0.]\n",
      " [0. 0. 0. 0. 0. 0. 0. 0. 0.]\n",
      " [0. 0. 0. 0. 0. 0. 0. 0. 0.]\n",
      " [0. 0. 0. 0. 0. 0. 0. 1. 0.]\n",
      " [0. 0. 0. 0. 0. 0. 0. 0. 0.]\n",
      " [0. 0. 0. 0. 0. 0. 0. 0. 0.]\n",
      " [0. 0. 0. 0. 0. 0. 0. 0. 0.]\n",
      " [0. 0. 0. 0. 0. 0. 0. 0. 0.]\n",
      " [0. 0. 0. 0. 0. 0. 0. 0. 0.]]\n"
     ]
    }
   ],
   "source": [
    "# Search with trained net\n",
    "\n",
    "tree = Tree(net)\n",
    "state = State()\n",
    "\n",
    "next_step = tree.think(state.play('E4 F5 E5 F6 E6 F7 E7'), 2000, show=True)\n",
    "print(next_step.reshape((9 , 9)))"
   ]
  },
  {
   "cell_type": "code",
   "execution_count": 28,
   "metadata": {},
   "outputs": [
    {
     "name": "stdout",
     "output_type": "stream",
     "text": [
      "   1 2 3 4 5 6 7 8 9\n",
      "A _ _ _ _ _ _ _ _ _\n",
      "B _ _ _ _ _ _ _ _ _\n",
      "C _ _ _ _ _ _ _ _ _\n",
      "D _ _ _ _ _ _ _ _ _\n",
      "E _ _ _ O O O O _ _\n",
      "F _ _ _ _ X X X X _\n",
      "G _ _ _ _ _ _ _ _ _\n",
      "H _ _ _ _ _ _ _ _ _\n",
      "I _ _ _ _ _ _ _ _ _\n",
      "record = E4 F5 E5 F6 E6 F7 E7 F8\n",
      "1.00 sec. best E8. q = 0.9508. n = 92 / 203. pv = E8\n",
      "2.00 sec. best E8. q = 0.9554. n = 148 / 381. pv = E8\n",
      "3.01 sec. best E8. q = 0.9560. n = 207 / 528. pv = E8\n",
      "4.01 sec. best E8. q = 0.9579. n = 253 / 667. pv = E8\n",
      "是否已经终局:  False\n",
      "[[0. 0. 0. 0. 0. 0. 0. 0. 0.]\n",
      " [0. 0. 0. 0. 0. 0. 0. 0. 0.]\n",
      " [0. 0. 0. 0. 0. 0. 0. 0. 0.]\n",
      " [0. 0. 0. 0. 0. 0. 0. 0. 0.]\n",
      " [0. 0. 0. 0. 0. 0. 0. 1. 0.]\n",
      " [0. 0. 0. 0. 0. 0. 0. 0. 0.]\n",
      " [0. 0. 0. 0. 0. 0. 0. 0. 0.]\n",
      " [0. 0. 0. 0. 0. 0. 0. 0. 0.]\n",
      " [0. 0. 0. 0. 0. 0. 0. 0. 0.]]\n"
     ]
    }
   ],
   "source": [
    "next_step = tree.think(state.play('F8'), 800, show=True)\n",
    "print('是否已经终局: ', state.terminal())\n",
    "print(next_step.reshape((9 , 9)))"
   ]
  },
  {
   "cell_type": "code",
   "execution_count": 15,
   "metadata": {},
   "outputs": [
    {
     "name": "stdout",
     "output_type": "stream",
     "text": [
      "   1 2 3 4 5 6 7 8 9\n",
      "A _ _ _ _ _ _ _ _ _\n",
      "B _ _ _ _ _ _ _ _ _\n",
      "C _ _ _ _ _ _ _ _ _\n",
      "D _ _ _ _ _ _ _ _ _\n",
      "E _ _ _ O O O O O _\n",
      "F _ _ _ _ X X X X _\n",
      "G _ _ _ _ _ _ _ _ _\n",
      "H _ _ _ _ _ _ _ _ _\n",
      "I _ _ _ _ _ _ _ _ _\n",
      "record = E4 F5 E5 F6 E6 F7 E7 F8 E8\n",
      "1.00 sec. best F9. q = -0.8868. n = 36 / 189. pv = F9\n",
      "2.01 sec. best F9. q = -0.8929. n = 62 / 330. pv = F9\n",
      "3.01 sec. best F9. q = -0.8966. n = 76 / 449. pv = F9\n",
      "4.00 sec. best F9. q = -0.9030. n = 91 / 548. pv = F9\n",
      "5.01 sec. best F9. q = -0.9080. n = 107 / 640. pv = F9\n",
      "6.01 sec. best F9. q = -0.9083. n = 120 / 726. pv = F9\n",
      "是否已经终局:  True\n",
      "[[0. 0. 0. 0. 0. 0. 0. 0. 0.]\n",
      " [0. 0. 0. 0. 0. 0. 0. 0. 0.]\n",
      " [0. 0. 0. 0. 0. 0. 0. 0. 0.]\n",
      " [0. 0. 0. 0. 0. 0. 0. 0. 0.]\n",
      " [0. 0. 0. 0. 0. 0. 0. 0. 0.]\n",
      " [0. 0. 0. 0. 0. 0. 0. 0. 1.]\n",
      " [0. 0. 0. 0. 0. 0. 0. 0. 0.]\n",
      " [0. 0. 0. 0. 0. 0. 0. 0. 0.]\n",
      " [0. 0. 0. 0. 0. 0. 0. 0. 0.]]\n"
     ]
    }
   ],
   "source": [
    "next_step = tree.think(state.play('E8'), 800, show=True)\n",
    "print('是否已经终局: ', state.terminal())\n",
    "print(next_step.reshape((9 , 9)))"
   ]
  },
  {
   "cell_type": "code",
   "execution_count": null,
   "metadata": {},
   "outputs": [],
   "source": []
  }
 ],
 "metadata": {
  "kernelspec": {
   "display_name": "Python 3",
   "language": "python",
   "name": "python3"
  },
  "language_info": {
   "codemirror_mode": {
    "name": "ipython",
    "version": 3
   },
   "file_extension": ".py",
   "mimetype": "text/x-python",
   "name": "python",
   "nbconvert_exporter": "python",
   "pygments_lexer": "ipython3",
   "version": "3.8.5"
  },
  "vscode": {
   "interpreter": {
    "hash": "e4cce46d6be9934fbd27f9ca0432556941ea5bdf741d4f4d64c6cd7f8dfa8fba"
   }
  }
 },
 "nbformat": 4,
 "nbformat_minor": 2
}
